{
 "cells": [
  {
   "cell_type": "code",
   "execution_count": 1,
   "id": "e5bad7d3",
   "metadata": {},
   "outputs": [],
   "source": [
    "import numpy as np\n",
    "from scipy.integrate import quad\n",
    "\n",
    "\n",
    "lambda_ = 0.05\n",
    "v_i = 8\n",
    "v_r = 25\n",
    "v_0 = 50\n",
    "P_r = 200\n",
    "\n",
    "\n"
   ]
  },
  {
   "cell_type": "code",
   "execution_count": 2,
   "id": "5077de54",
   "metadata": {},
   "outputs": [],
   "source": [
    "\n",
    "def f_V(v):\n",
    "    return lambda_ * np.exp(-lambda_ * v)\n",
    "\n",
    "# Integrands\n",
    "def integrand1(v):\n",
    "    return (v / v_r)**3 * P_r * f_V(v)\n",
    "\n",
    "def integrand2(v):\n",
    "    return P_r * f_V(v)\n",
    "\n",
    "\n"
   ]
  },
  {
   "cell_type": "code",
   "execution_count": 3,
   "id": "5edbd3d8",
   "metadata": {},
   "outputs": [
    {
     "name": "stdout",
     "output_type": "stream",
     "text": [
      "E[P(V)] = 63.92 kW\n",
      "P[E(V)] = 102.40 kW\n"
     ]
    }
   ],
   "source": [
    "# Numerical integration\n",
    "integral1, _ = quad(integrand1, v_i, v_r)\n",
    "integral2, _ = quad(integrand2, v_r, v_0)\n",
    "\n",
    "E_P_V = integral1 + integral2\n",
    "\n",
    "# Analytical calculation of P(E(V))\n",
    "E_V = 1 / lambda_\n",
    "P_E_V = P_r if v_r <= E_V < v_0 else (E_V / v_r)**3 * P_r if v_i <= E_V < v_r else 0\n",
    "\n",
    "print(f\"E[P(V)] = {E_P_V:.2f} kW\")\n",
    "print(f\"P[E(V)] = {P_E_V:.2f} kW\")"
   ]
  },
  {
   "cell_type": "code",
   "execution_count": null,
   "id": "8d1886ed",
   "metadata": {},
   "outputs": [],
   "source": []
  }
 ],
 "metadata": {
  "kernelspec": {
   "display_name": "Python (mytfenv)",
   "language": "python",
   "name": "mytfenv"
  },
  "language_info": {
   "codemirror_mode": {
    "name": "ipython",
    "version": 3
   },
   "file_extension": ".py",
   "mimetype": "text/x-python",
   "name": "python",
   "nbconvert_exporter": "python",
   "pygments_lexer": "ipython3",
   "version": "3.7.16"
  }
 },
 "nbformat": 4,
 "nbformat_minor": 5
}
